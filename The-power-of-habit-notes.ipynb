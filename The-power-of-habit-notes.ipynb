{
 "cells": [
  {
   "cell_type": "markdown",
   "metadata": {},
   "source": [
    "# Part One: The habits of individuals"
   ]
  },
  {
   "cell_type": "markdown",
   "metadata": {},
   "source": [
    "## 1. The Habit Loop: How Habits Work"
   ]
  },
  {
   "cell_type": "markdown",
   "metadata": {},
   "source": [
    "The **basal ganglia**, in other words, stored habits even while the rest of the brain went to sleep."
   ]
  },
  {
   "cell_type": "markdown",
   "metadata": {},
   "source": [
    "**Habits are powerful, bu delicate**. They can emerge outside our consciousness, or can be deliberately designed. They often occur without our permission, but can be reshaped by fiddling with their parts. They shape our lives far more than we realize--**they are strong, in fact, that they  cause our brains to cling to them at the exclusion of all else, including common sense**.\n",
    "\n",
    "> parts--cues、routines、rewards."
   ]
  }
 ],
 "metadata": {
  "kernelspec": {
   "display_name": "Python 3",
   "language": "python",
   "name": "python3"
  },
  "language_info": {
   "codemirror_mode": {
    "name": "ipython",
    "version": 3
   },
   "file_extension": ".py",
   "mimetype": "text/x-python",
   "name": "python",
   "nbconvert_exporter": "python",
   "pygments_lexer": "ipython3",
   "version": "3.7.6"
  }
 },
 "nbformat": 4,
 "nbformat_minor": 4
}
