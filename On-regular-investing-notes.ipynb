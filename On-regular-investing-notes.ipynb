{
 "cells": [
  {
   "cell_type": "markdown",
   "metadata": {},
   "source": [
    "> 2020.02.27开始阅读——"
   ]
  },
  {
   "cell_type": "markdown",
   "metadata": {},
   "source": [
    "# Warning"
   ]
  },
  {
   "cell_type": "markdown",
   "metadata": {},
   "source": [
    "# Perface"
   ]
  },
  {
   "cell_type": "markdown",
   "metadata": {},
   "source": [
    "Solving the single most importan problem can directly avoid the problems that so many otehrs face."
   ]
  },
  {
   "cell_type": "markdown",
   "metadata": {},
   "source": [
    "It's true, most people aren't very reasonable, and they stay this way throughtout their lives."
   ]
  },
  {
   "cell_type": "markdown",
   "metadata": {},
   "source": [
    "In fact, the most tragic failures in life always come from perceiving a new beginning as an end point."
   ]
  },
  {
   "cell_type": "markdown",
   "metadata": {},
   "source": [
    "> So what's the most important concept in the area of investment?\n",
    "> **long-term**."
   ]
  },
  {
   "cell_type": "markdown",
   "metadata": {},
   "source": [
    "However, simple itselt doesn't necessraily mean easy.：但是，简单本身并不意味着容易。"
   ]
  },
  {
   "cell_type": "markdown",
   "metadata": {},
   "source": [
    "# Part One: Regular Investing"
   ]
  },
  {
   "cell_type": "markdown",
   "metadata": {},
   "source": [
    "## 1.1 The Strategy and Results"
   ]
  },
  {
   "cell_type": "markdown",
   "metadata": {},
   "source": [
    "The reason why regular investing is effective is that **it matches up with the following reality of markets**:\n",
    "\n",
    "> **Bear markets are much longer than bull markets**."
   ]
  },
  {
   "cell_type": "markdown",
   "metadata": {},
   "source": [
    "With regular investing, **your profits essentially all come from the bear market**!"
   ]
  },
  {
   "cell_type": "markdown",
   "metadata": {},
   "source": [
    "Jeff Bezos once asked Warren Buffett, \"Your investment thesis is so simple… Why doesn't everyone just copy you?\" Buffett's reply was quite striking:\n",
    "\n",
    "> **Because nobody wants to get rich slow**."
   ]
  },
  {
   "cell_type": "markdown",
   "metadata": {},
   "source": [
    "## 1.2 How Long Is \"Long-term\"?"
   ]
  },
  {
   "cell_type": "markdown",
   "metadata": {},
   "source": [
    "Only after **two full cycles** can we make an **accurate**judgement about wether a trend is more likely to be upward or downward."
   ]
  },
  {
   "cell_type": "markdown",
   "metadata": {},
   "source": [
    "> Since the future is full of risk an unknown factors, we can only use terms such as \"more likely\". Actually, this is precisely why future is so interesting.\n",
    "                                   -- by wangxiaolong"
   ]
  },
  {
   "cell_type": "markdown",
   "metadata": {},
   "source": [
    "* a period of rising or falling prices does not necessarily constitute a trend -- **it's impossible to determine a trend over the short term**;\n",
    "\n",
    "* a period of falling prices(Period B)followed by a period of rising prices(Period A)constitutes a **full cycle**;\n",
    "\n",
    "* we can take each **historical high** as the starting point for Period B of a full cycle;\n",
    "\n",
    "* we can only determine the historical high of a period **after the fact**;\n",
    "\n",
    "* it takes **at least two full cycles** to determine a **trend**;\n",
    "\n",
    "* the best we can do is determine that a trend is **more likely**;\n",
    "\n",
    "* an upward trend often results in a **new historical high**, but we can only determine the highest price of a cycle after the fact;\n",
    "\n",
    "* long-term holding refers to holding for  **at least two full cycles**, or through two bear markets and bull markets."
   ]
  },
  {
   "cell_type": "markdown",
   "metadata": {},
   "source": [
    "## 1.3 Why to Use Money to Make Money"
   ]
  },
  {
   "cell_type": "markdown",
   "metadata": {},
   "source": [
    "The core of investing is using money to make money, and money doesn't rest-- as long as you make the right investment, it works for you 24 hours a day, 365 days a year."
   ]
  },
  {
   "cell_type": "markdown",
   "metadata": {},
   "source": [
    "## 1.4 What Can We Use to Regularly Invest?"
   ]
  },
  {
   "cell_type": "markdown",
   "metadata": {},
   "source": [
    "In fact, in addition to investing money, we have another resource that we can invest - **time**.\n",
    "\n",
    "事实上，除了投资金钱之外，我们还有另外一种资源可供投资——**时间**。"
   ]
  },
  {
   "cell_type": "markdown",
   "metadata": {},
   "source": [
    "But 99.99% of investors will never have access to massive amounts of free capital to invest overr an unlimited term, and that's a big reason why Buffett has been extraodinarily successful.\n",
    "\n",
    "但是，99.99%的投资者终其一生都不会拥有供其永远使用的大量自由资本，这也是巴菲特异乎寻常成功的重要原因。"
   ]
  },
  {
   "cell_type": "markdown",
   "metadata": {},
   "source": [
    "In fact, faith doesn't require logic, and can't depend on logic, because if it did depend on logic, all faith would be shaken in the end.\n",
    "\n",
    "事实上，真相并不需要逻辑，也不依靠逻辑。因为，如果真相依赖于逻辑，所有的真相最终都会发生动摇。"
   ]
  },
  {
   "cell_type": "markdown",
   "metadata": {},
   "source": [
    "Selling one bit of your time more than once is an upgrade of your personal business model. It's such an important upgrade that it is hard for anyone to free themselves from the shackles of increasing daily expenses without it.\n",
    "\n",
    "把自己的同一份时间出售很多次是**个人商业模式**的重要升级。没有这个重要的升级，任何人都很难从不断增加的日常开销的枷锁中解放出来。\n",
    "\n",
    "If you don't upgrade your personal business model, it's hard to have any money left over.\n",
    "\n",
    "如果你不能升级个人商业模式，你就很难有闲钱留下来。"
   ]
  },
  {
   "cell_type": "markdown",
   "metadata": {},
   "source": [
    "As I see it, regular investing require a trifecta of successful personal business model upgrades:\n",
    "\n",
    "* from selling your time once to selling the same time multiple times;\n",
    "* from only using money to consume to using money to make money (starting to invest);\n",
    "* from just investing money to also investing time.\n",
    "\n",
    "在我看来，定投需要一个个人商业模式成功升级的“三连胜”：\n",
    "* 从一份时间出售一次到**同一份时间出售很多次**；\n",
    "* 从只用钱来消费到**用钱赚钱**（开始投资）。\n",
    "* 从投资金钱到也**投资时间**。"
   ]
  },
  {
   "cell_type": "markdown",
   "metadata": {},
   "source": [
    "## 1.5 The strategy of Regular Investing Does  Not Need to Be Further Improved"
   ]
  },
  {
   "cell_type": "markdown",
   "metadata": {},
   "source": [
    "# Part Two: Choosing a Target for Regular Investing"
   ]
  },
  {
   "cell_type": "markdown",
   "metadata": {},
   "source": [
    "Regular investing is simple, direct brutal and effective. However, in addition to depending on the ability of the practitioner to earn money outside of the market, it depends even more on the selection of a quality investment target. If a mistake is made in the selection of the target, the result over the long term will be terrible."
   ]
  },
  {
   "cell_type": "markdown",
   "metadata": {},
   "source": [
    "Choosing a Target of Regular Investing Standard is:\n",
    "**It's worth holding over the long term**."
   ]
  },
  {
   "cell_type": "markdown",
   "metadata": {},
   "source": [
    "2.1 "
   ]
  }
 ],
 "metadata": {
  "kernelspec": {
   "display_name": "Python 3",
   "language": "python",
   "name": "python3"
  },
  "language_info": {
   "codemirror_mode": {
    "name": "ipython",
    "version": 3
   },
   "file_extension": ".py",
   "mimetype": "text/x-python",
   "name": "python",
   "nbconvert_exporter": "python",
   "pygments_lexer": "ipython3",
   "version": "3.7.6"
  }
 },
 "nbformat": 4,
 "nbformat_minor": 4
}
