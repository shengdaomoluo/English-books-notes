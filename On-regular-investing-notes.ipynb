{
 "cells": [
  {
   "cell_type": "markdown",
   "metadata": {},
   "source": [
    "> 2020.02.27开始阅读——"
   ]
  },
  {
   "cell_type": "markdown",
   "metadata": {},
   "source": [
    "# Warning"
   ]
  },
  {
   "cell_type": "markdown",
   "metadata": {},
   "source": [
    "# Perface"
   ]
  },
  {
   "cell_type": "markdown",
   "metadata": {},
   "source": [
    "Solving the single most importan problem can directly avoid the problems that so many otehrs face."
   ]
  },
  {
   "cell_type": "markdown",
   "metadata": {},
   "source": [
    "It's true, most people aren't very reasonable, and they stay this way throughtout their lives."
   ]
  },
  {
   "cell_type": "markdown",
   "metadata": {},
   "source": [
    "In fact, the most tragic failures in life always come from perceiving a new beginning as an end point."
   ]
  },
  {
   "cell_type": "markdown",
   "metadata": {},
   "source": [
    "> So what's the most important concept in the area of investment?\n",
    "> **long-term**."
   ]
  },
  {
   "cell_type": "markdown",
   "metadata": {},
   "source": [
    "However, simple itselt doesn't necessraily mean easy.：但是，简单本身并不意味着容易。"
   ]
  },
  {
   "cell_type": "markdown",
   "metadata": {},
   "source": [
    "# Part One: Regular Investing"
   ]
  },
  {
   "cell_type": "markdown",
   "metadata": {},
   "source": [
    "## 1.1 The Strategy and Results"
   ]
  },
  {
   "cell_type": "markdown",
   "metadata": {},
   "source": [
    "The reason why regular investing is effective is that **it matches up with the following reality of markets**:\n",
    "\n",
    "> **Bear markets are much longer than bull markets**."
   ]
  },
  {
   "cell_type": "markdown",
   "metadata": {},
   "source": [
    "With regular investing, **your profits essentially all come from the bear market**!"
   ]
  },
  {
   "cell_type": "markdown",
   "metadata": {},
   "source": [
    "Jeff Bezos once asked Warren Buffett, \"Your investment thesis is so simple… Why doesn't everyone just copy you?\" Buffett's reply was quite striking:\n",
    "\n",
    "> **Because nobody wants to get rich slow**."
   ]
  }
 ],
 "metadata": {
  "kernelspec": {
   "display_name": "Python 3",
   "language": "python",
   "name": "python3"
  },
  "language_info": {
   "codemirror_mode": {
    "name": "ipython",
    "version": 3
   },
   "file_extension": ".py",
   "mimetype": "text/x-python",
   "name": "python",
   "nbconvert_exporter": "python",
   "pygments_lexer": "ipython3",
   "version": "3.7.6"
  }
 },
 "nbformat": 4,
 "nbformat_minor": 4
}
