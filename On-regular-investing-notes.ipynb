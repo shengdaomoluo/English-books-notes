{
 "cells": [
  {
   "cell_type": "markdown",
   "metadata": {},
   "source": [
    "> 2020.02.27开始阅读——"
   ]
  },
  {
   "cell_type": "markdown",
   "metadata": {},
   "source": [
    "# Warning"
   ]
  },
  {
   "cell_type": "markdown",
   "metadata": {},
   "source": [
    "# Perface"
   ]
  },
  {
   "cell_type": "markdown",
   "metadata": {},
   "source": [
    "Solving the single most importan problem can directly avoid the problems that so many otehrs face."
   ]
  },
  {
   "cell_type": "markdown",
   "metadata": {},
   "source": [
    "It's true, most people aren't very reasonable, and they stay this way throughtout their lives."
   ]
  },
  {
   "cell_type": "markdown",
   "metadata": {},
   "source": [
    "In fact, the most tragic failures in life always come from perceiving a new beginning as an end point."
   ]
  },
  {
   "cell_type": "markdown",
   "metadata": {},
   "source": [
    "> So what's the most important concept in the area of investment?\n",
    "> **long-term**."
   ]
  },
  {
   "cell_type": "markdown",
   "metadata": {},
   "source": [
    "However, simple itselt doesn't necessraily mean easy.：但是，简单本身并不意味着容易。"
   ]
  },
  {
   "cell_type": "markdown",
   "metadata": {},
   "source": [
    "# Part One: Regular Investing"
   ]
  },
  {
   "cell_type": "markdown",
   "metadata": {},
   "source": [
    "## 1.1 The Strategy and Results"
   ]
  },
  {
   "cell_type": "markdown",
   "metadata": {},
   "source": [
    "The reason why regular investing is effective is that **it matches up with the following reality of markets**:\n",
    "\n",
    "> **Bear markets are much longer than bull markets**."
   ]
  },
  {
   "cell_type": "markdown",
   "metadata": {},
   "source": [
    "With regular investing, **your profits essentially all come from the bear market**!"
   ]
  },
  {
   "cell_type": "markdown",
   "metadata": {},
   "source": [
    "Jeff Bezos once asked Warren Buffett, \"Your investment thesis is so simple… Why doesn't everyone just copy you?\" Buffett's reply was quite striking:\n",
    "\n",
    "> **Because nobody wants to get rich slow**."
   ]
  },
  {
   "cell_type": "markdown",
   "metadata": {},
   "source": [
    "## 1.2 How Long Is \"Long-term\"?"
   ]
  },
  {
   "cell_type": "markdown",
   "metadata": {},
   "source": [
    "Only after **two full cycles** can we make an **accurate**judgement about wether a trend is more likely to be upward or downward."
   ]
  },
  {
   "cell_type": "markdown",
   "metadata": {},
   "source": [
    "> Since the future is full of risk an unknown factors, we can only use terms such as \"more likely\". Actually, this is precisely why future is so interesting.\n",
    "                                   -- by wangxiaolong"
   ]
  },
  {
   "cell_type": "markdown",
   "metadata": {},
   "source": [
    "* a period of rising or falling prices does not necessarily constitute a trend -- **it's impossible to determine a trend over the short term**;\n",
    "\n",
    "* a period of falling prices(Period B)followed by a period of rising prices(Period A)constitutes a **full cycle**;\n",
    "\n",
    "* we can take each **historical high** as the starting point for Period B of a full cycle;\n",
    "\n",
    "* we can only determine the historical high of a period **after the fact**;\n",
    "\n",
    "* it takes **at least two full cycles** to determine a **trend**;\n",
    "\n",
    "* the best we can do is determine that a trend is **more likely**;\n",
    "\n",
    "* an upward trend often results in a **new historical high**, but we can only determine the highest price of a cycle after the fact;\n",
    "\n",
    "* long-term holding refers to hlo"
   ]
  }
 ],
 "metadata": {
  "kernelspec": {
   "display_name": "Python 3",
   "language": "python",
   "name": "python3"
  },
  "language_info": {
   "codemirror_mode": {
    "name": "ipython",
    "version": 3
   },
   "file_extension": ".py",
   "mimetype": "text/x-python",
   "name": "python",
   "nbconvert_exporter": "python",
   "pygments_lexer": "ipython3",
   "version": "3.7.6"
  }
 },
 "nbformat": 4,
 "nbformat_minor": 4
}
